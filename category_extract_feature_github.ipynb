{
 "cells": [
  {
   "cell_type": "markdown",
   "metadata": {},
   "source": [
    "## 사용된 blockchain data는 아래의 github 코드를 사용한 데이터 베이스를 사용함\n",
    "- LuHa(munhyunsu)\n",
    "    - Repository : BitcoinAnalysis\n",
    "    - URL : https://github.com/munhyunsu/BitcoinAnalysis"
   ]
  },
  {
   "cell_type": "code",
   "execution_count": null,
   "metadata": {},
   "outputs": [],
   "source": [
    "import sqlite3\n",
    "import time\n",
    "\n",
    "# 62만 블록이 저장된 데이터 베이스 사용\n",
    "conn = sqlite3.connect(\"../feature_machine_learning_test/bitcoin_db/index_620000.db\")\n",
    "cur = conn.cursor()\n",
    "tmp_conn = sqlite3.connect(\"../feature_machine_learning_test/bitcoin_db/index_620000.db\")\n",
    "tmp_cur = tmp_conn.cursor()\n",
    "\n",
    "# database의 table확인하기\n",
    "cur.execute('SELECT name from sqlite_master where type= \"table\"')\n",
    "print(cur.fetchall())"
   ]
  },
  {
   "cell_type": "markdown",
   "metadata": {},
   "source": [
    "### RootAddress를 가진 엔티티 csv파일을 가져와 사용"
   ]
  },
  {
   "cell_type": "code",
   "execution_count": 2,
   "metadata": {},
   "outputs": [
    {
     "data": {
      "text/html": [
       "<div>\n",
       "<style scoped>\n",
       "    .dataframe tbody tr th:only-of-type {\n",
       "        vertical-align: middle;\n",
       "    }\n",
       "\n",
       "    .dataframe tbody tr th {\n",
       "        vertical-align: top;\n",
       "    }\n",
       "\n",
       "    .dataframe thead th {\n",
       "        text-align: right;\n",
       "    }\n",
       "</style>\n",
       "<table border=\"1\" class=\"dataframe\">\n",
       "  <thead>\n",
       "    <tr style=\"text-align: right;\">\n",
       "      <th></th>\n",
       "      <th>Category</th>\n",
       "      <th>RootAddress</th>\n",
       "    </tr>\n",
       "  </thead>\n",
       "  <tbody>\n",
       "    <tr>\n",
       "      <th>0</th>\n",
       "      <td>darknet market</td>\n",
       "      <td>17Bccs6eJAKsXHeopcH5FCt7o1FdCk1Xw7</td>\n",
       "    </tr>\n",
       "    <tr>\n",
       "      <th>1</th>\n",
       "      <td>gambling</td>\n",
       "      <td>1rH4vGpf5LEgCvUxXgRycGrQ5ahsxXB2F</td>\n",
       "    </tr>\n",
       "    <tr>\n",
       "      <th>2</th>\n",
       "      <td>scam</td>\n",
       "      <td>1Kd9zuLiJ5mbz6YD7a8nQiiAXvPuveUyRL</td>\n",
       "    </tr>\n",
       "    <tr>\n",
       "      <th>3</th>\n",
       "      <td>exchange</td>\n",
       "      <td>14zRXp2AZ8yxXzPXJ5gAirmgAxJdUZiVut</td>\n",
       "    </tr>\n",
       "    <tr>\n",
       "      <th>4</th>\n",
       "      <td>mining pool</td>\n",
       "      <td>1F1xcRt8H8Wa623KqmkEontwAAVqDSAWCV</td>\n",
       "    </tr>\n",
       "  </tbody>\n",
       "</table>\n",
       "</div>"
      ],
      "text/plain": [
       "         Category                         RootAddress\n",
       "0  darknet market  17Bccs6eJAKsXHeopcH5FCt7o1FdCk1Xw7\n",
       "1        gambling   1rH4vGpf5LEgCvUxXgRycGrQ5ahsxXB2F\n",
       "2            scam  1Kd9zuLiJ5mbz6YD7a8nQiiAXvPuveUyRL\n",
       "3        exchange  14zRXp2AZ8yxXzPXJ5gAirmgAxJdUZiVut\n",
       "4     mining pool  1F1xcRt8H8Wa623KqmkEontwAAVqDSAWCV"
      ]
     },
     "execution_count": 2,
     "metadata": {},
     "output_type": "execute_result"
    }
   ],
   "source": [
    "import pandas as pd\n",
    "\n",
    "path = './ChainAnalysisNamedClusters.csv'\n",
    "category_addr = pd.read_csv(path)\n",
    "category_addr = category_addr[['Category', 'RootAddress']]\n",
    "category_addr.head()"
   ]
  },
  {
   "cell_type": "code",
   "execution_count": 3,
   "metadata": {
    "scrolled": true
   },
   "outputs": [
    {
     "data": {
      "text/plain": [
       "exchange                426\n",
       "gambling                112\n",
       "darknet market           82\n",
       "mining pool              80\n",
       "other                    72\n",
       "high risk exchange       63\n",
       "scam                     38\n",
       "ransomware               28\n",
       "stolen funds             22\n",
       "merchant services        21\n",
       "mixing                   20\n",
       "hosted wallet            18\n",
       "p2p exchange              6\n",
       "terrorist financing       5\n",
       "sanctions                 4\n",
       "child abuse material      3\n",
       "mining                    1\n",
       "Name: Category, dtype: int64"
      ]
     },
     "execution_count": 3,
     "metadata": {},
     "output_type": "execute_result"
    }
   ],
   "source": [
    "category_addr['Category'].value_counts()"
   ]
  },
  {
   "cell_type": "markdown",
   "metadata": {},
   "source": [
    "### 특정 엔티티를 선정"
   ]
  },
  {
   "cell_type": "code",
   "execution_count": 4,
   "metadata": {},
   "outputs": [
    {
     "data": {
      "text/html": [
       "<div>\n",
       "<style scoped>\n",
       "    .dataframe tbody tr th:only-of-type {\n",
       "        vertical-align: middle;\n",
       "    }\n",
       "\n",
       "    .dataframe tbody tr th {\n",
       "        vertical-align: top;\n",
       "    }\n",
       "\n",
       "    .dataframe thead th {\n",
       "        text-align: right;\n",
       "    }\n",
       "</style>\n",
       "<table border=\"1\" class=\"dataframe\">\n",
       "  <thead>\n",
       "    <tr style=\"text-align: right;\">\n",
       "      <th></th>\n",
       "      <th>Category</th>\n",
       "      <th>RootAddress</th>\n",
       "    </tr>\n",
       "  </thead>\n",
       "  <tbody>\n",
       "    <tr>\n",
       "      <th>0</th>\n",
       "      <td>darknet market</td>\n",
       "      <td>17Bccs6eJAKsXHeopcH5FCt7o1FdCk1Xw7</td>\n",
       "    </tr>\n",
       "    <tr>\n",
       "      <th>1</th>\n",
       "      <td>gambling</td>\n",
       "      <td>1rH4vGpf5LEgCvUxXgRycGrQ5ahsxXB2F</td>\n",
       "    </tr>\n",
       "    <tr>\n",
       "      <th>2</th>\n",
       "      <td>scam</td>\n",
       "      <td>1Kd9zuLiJ5mbz6YD7a8nQiiAXvPuveUyRL</td>\n",
       "    </tr>\n",
       "    <tr>\n",
       "      <th>3</th>\n",
       "      <td>exchange</td>\n",
       "      <td>14zRXp2AZ8yxXzPXJ5gAirmgAxJdUZiVut</td>\n",
       "    </tr>\n",
       "    <tr>\n",
       "      <th>4</th>\n",
       "      <td>mining pool</td>\n",
       "      <td>1F1xcRt8H8Wa623KqmkEontwAAVqDSAWCV</td>\n",
       "    </tr>\n",
       "  </tbody>\n",
       "</table>\n",
       "</div>"
      ],
      "text/plain": [
       "         Category                         RootAddress\n",
       "0  darknet market  17Bccs6eJAKsXHeopcH5FCt7o1FdCk1Xw7\n",
       "1        gambling   1rH4vGpf5LEgCvUxXgRycGrQ5ahsxXB2F\n",
       "2            scam  1Kd9zuLiJ5mbz6YD7a8nQiiAXvPuveUyRL\n",
       "3        exchange  14zRXp2AZ8yxXzPXJ5gAirmgAxJdUZiVut\n",
       "4     mining pool  1F1xcRt8H8Wa623KqmkEontwAAVqDSAWCV"
      ]
     },
     "execution_count": 4,
     "metadata": {},
     "output_type": "execute_result"
    }
   ],
   "source": [
    "select_category_addr = category_addr[category_addr['Category'].isin(['darknet market', 'exchange', 'gambling', 'high risk exchange', 'hosted wallet', 'merchant services', 'mining pool', 'mixing', 'ransomware', 'scam', 'stolen funds', 'other'])]\n",
    "select_category_addr.head()"
   ]
  },
  {
   "cell_type": "code",
   "execution_count": 5,
   "metadata": {},
   "outputs": [],
   "source": [
    "category_label = list(set(select_category_addr['Category']))\n",
    "category_per_dict = dict() # 카테고리별 RootAddress들의 모음 list를 담은 dict\n",
    "for cl in category_label:\n",
    "    cl_per_addr = set(select_category_addr[select_category_addr['Category'] == cl]['RootAddress'])\n",
    "    category_per_dict[cl] = cl_per_addr"
   ]
  },
  {
   "cell_type": "code",
   "execution_count": 6,
   "metadata": {},
   "outputs": [],
   "source": [
    "# category별로 정리를 했으며, 해당 주소들 중 db에 있는 것만 골라서 정리\n",
    "category_per_addr = dict()\n",
    "for cpd in category_per_dict:\n",
    "    addr_list = list()\n",
    "    for ad in category_per_dict[cpd]:\n",
    "        cur.execute('''SELECT * from AddrID where addr = ?''', (ad,))\n",
    "        try:\n",
    "            addr_list.append((cur.fetchone())[1]) # db에 있는 (index, addr)에서 addr만 추출\n",
    "        except:\n",
    "            continue\n",
    "    category_per_addr[cpd] = addr_list"
   ]
  },
  {
   "cell_type": "code",
   "execution_count": 7,
   "metadata": {},
   "outputs": [],
   "source": [
    "def apply_multi_input(addr_id):\n",
    "    addres_for_cluster = set()\n",
    "    \n",
    "    cur.execute('''SELECT tx FROM TxIn WHERE addr = ?''', (addr_id,))\n",
    "    for row in cur:\n",
    "        if len(addres_for_cluster) == 20: ## 20개로 개수 제한을 두어 전체 multi input 클러스터를 선정하지는 않음\n",
    "            break\n",
    "        addres_for_cluster.add(row[0])\n",
    "        \n",
    "    return addres_for_cluster"
   ]
  },
  {
   "cell_type": "code",
   "execution_count": 8,
   "metadata": {},
   "outputs": [],
   "source": [
    "category_multi_input = dict()\n",
    "\n",
    "for cpa in category_per_addr:\n",
    "    count = 0\n",
    "    for addr in category_per_addr[cpa]:\n",
    "        cur.execute('''select id from AddrID where addr = ?''', (addr,))\n",
    "        category_multi_input[str(cpa) + str(count)] = apply_multi_input(cur.fetchone()[0])\n",
    "        count += 1"
   ]
  },
  {
   "cell_type": "markdown",
   "metadata": {},
   "source": [
    "### input에 존재하는 거래의 id를 모았으니 이제 해당 거래의 모든 input주소들을 하나의 저장소로 모아서 저장"
   ]
  },
  {
   "cell_type": "code",
   "execution_count": 10,
   "metadata": {},
   "outputs": [],
   "source": [
    "def searched_addresses(tx_id):\n",
    "    address_set = set()\n",
    "    \n",
    "    cur.execute('''SELECT addr FROM TxIn WHERE tx = ?''', (tx_id,))\n",
    "    for row in cur:\n",
    "        tmp_cur.execute('''select addr from AddrID where id = ?''', (row[0],))\n",
    "        for arow in tmp_cur:\n",
    "            address_set.add(arow[0])\n",
    "            \n",
    "    return address_set"
   ]
  },
  {
   "cell_type": "code",
   "execution_count": 11,
   "metadata": {},
   "outputs": [
    {
     "data": {
      "text/plain": [
       "975"
      ]
     },
     "execution_count": 11,
     "metadata": {},
     "output_type": "execute_result"
    }
   ],
   "source": [
    "category_multi_input_addr = dict()\n",
    "\n",
    "for cmi in category_multi_input:\n",
    "    for ctx in category_multi_input[cmi]:\n",
    "        if ctx == set():\n",
    "            continue\n",
    "        category_multi_input_addr[cmi] = searched_addresses(ctx)\n",
    "len(category_multi_input_addr)"
   ]
  },
  {
   "cell_type": "markdown",
   "metadata": {},
   "source": [
    "## Webcrawler를 진행한 ransomware csv파일 이용"
   ]
  },
  {
   "cell_type": "code",
   "execution_count": 12,
   "metadata": {},
   "outputs": [],
   "source": [
    "cransom = pd.read_csv('./crawler_ransomware.csv')\n",
    "cransom_set = set(cransom['Bitcoin Address'].values)"
   ]
  },
  {
   "cell_type": "code",
   "execution_count": 13,
   "metadata": {},
   "outputs": [],
   "source": [
    "# ransomware 수집했었던 것을 1개로 가져와서 추가\n",
    "category_multi_input_addr['ransomware28'] = cransom_set"
   ]
  },
  {
   "cell_type": "code",
   "execution_count": null,
   "metadata": {
    "scrolled": true
   },
   "outputs": [],
   "source": [
    "# # root addr내 주소가 1개인 클러스터들은 제거\n",
    "# delete_cluster = list()\n",
    "# for cmia in category_multi_input_addr:\n",
    "#     if len(category_multi_input_addr[cmia]) == 1:\n",
    "#         delete_cluster.append(cmia)\n",
    "#         continue\n",
    "#     print(cmia + \"_length : \" + str(len(category_multi_input_addr[cmia])))\n",
    "\n",
    "# for dc in delete_cluster:\n",
    "#     del category_multi_input_addr[dc]\n",
    "# len(category_multi_input_addr)"
   ]
  },
  {
   "cell_type": "markdown",
   "metadata": {},
   "source": [
    "## 특징 추출 코드"
   ]
  },
  {
   "cell_type": "code",
   "execution_count": 14,
   "metadata": {},
   "outputs": [
    {
     "data": {
      "text/html": [
       "<div>\n",
       "<style scoped>\n",
       "    .dataframe tbody tr th:only-of-type {\n",
       "        vertical-align: middle;\n",
       "    }\n",
       "\n",
       "    .dataframe tbody tr th {\n",
       "        vertical-align: top;\n",
       "    }\n",
       "\n",
       "    .dataframe thead th {\n",
       "        text-align: right;\n",
       "    }\n",
       "</style>\n",
       "<table border=\"1\" class=\"dataframe\">\n",
       "  <thead>\n",
       "    <tr style=\"text-align: right;\">\n",
       "      <th></th>\n",
       "      <th>date</th>\n",
       "      <th>USD</th>\n",
       "    </tr>\n",
       "  </thead>\n",
       "  <tbody>\n",
       "    <tr>\n",
       "      <th>0</th>\n",
       "      <td>2020-05-22</td>\n",
       "      <td>9,066.3</td>\n",
       "    </tr>\n",
       "    <tr>\n",
       "      <th>1</th>\n",
       "      <td>2020-05-21</td>\n",
       "      <td>9,059.0</td>\n",
       "    </tr>\n",
       "    <tr>\n",
       "      <th>2</th>\n",
       "      <td>2020-05-20</td>\n",
       "      <td>9,512.3</td>\n",
       "    </tr>\n",
       "    <tr>\n",
       "      <th>3</th>\n",
       "      <td>2020-05-19</td>\n",
       "      <td>9,773.3</td>\n",
       "    </tr>\n",
       "    <tr>\n",
       "      <th>4</th>\n",
       "      <td>2020-05-18</td>\n",
       "      <td>9,730.7</td>\n",
       "    </tr>\n",
       "  </tbody>\n",
       "</table>\n",
       "</div>"
      ],
      "text/plain": [
       "         date      USD\n",
       "0  2020-05-22  9,066.3\n",
       "1  2020-05-21  9,059.0\n",
       "2  2020-05-20  9,512.3\n",
       "3  2020-05-19  9,773.3\n",
       "4  2020-05-18  9,730.7"
      ]
     },
     "execution_count": 14,
     "metadata": {},
     "output_type": "execute_result"
    }
   ],
   "source": [
    "# bitcoin 시세 (2010-01-01 ~ 2020-03-28)\n",
    "# https://kr.investing.com/crypto/bitcoin/historical-data\n",
    "import pandas as pd\n",
    "from datetime import datetime\n",
    "bitcoin_past_csv = pd.read_csv('./bitcoin_past_value.csv')\n",
    "\n",
    "def change_date_format(date):\n",
    "    year = date.split('년 ')\n",
    "    month = year[1].split('월 ')\n",
    "    day = month[1].split('일')[0]\n",
    "    \n",
    "    return year[0] + '-' + month[0] + '-' + day\n",
    "\n",
    "bitcoin_past_csv = bitcoin_past_csv[['날짜', '종가']]\n",
    "bitcoin_past_csv['date'] = bitcoin_past_csv.apply(lambda x:change_date_format(x['날짜']), axis=1)\n",
    "\n",
    "preprocess_csv = bitcoin_past_csv.copy()\n",
    "preprocess_csv = preprocess_csv.drop(['날짜'], axis=1)\n",
    "preprocess_csv = preprocess_csv.rename(columns = {'종가' : 'USD'})\n",
    "preprocess_csv = preprocess_csv[['date', 'USD']]\n",
    "preprocess_csv.head()"
   ]
  },
  {
   "cell_type": "markdown",
   "metadata": {},
   "source": [
    "### Address BTC Sent / Address USD Sent"
   ]
  },
  {
   "cell_type": "code",
   "execution_count": null,
   "metadata": {},
   "outputs": [],
   "source": [
    "def get_addr_btc_usd_spent(addr_id):\n",
    "    total_spent_value = 0.0; total_spent_usd = 0.0; convert_susd = 0.0\n",
    "    tx_cache_index = -1\n",
    "    txout_rpc_content = list()\n",
    "    \n",
    "    # addr id사용해서 txhash.db의 TxOut table에서 id가 일치하는 것 출력\n",
    "    cur.execute('''SELECT tx, n FROM TxOut WHERE addr = ?''', (addr_id,))\n",
    "    for row in cur:\n",
    "        if row[0] != tx_cache_index:\n",
    "            tx_cache_index = row[0]\n",
    "            \n",
    "            tmp_cur.execute('''SELECT txhash FROM TxID WHERE id = ?''', (row[0],))\n",
    "            find_txhash = tmp_cur.fetchone()[0] # searched txhash\n",
    "            txout_rpc_content = rpc_connection.getrawtransaction(find_txhash, 1)\n",
    "        \n",
    "        # 이미 방문했었던 거래의 다른 btc 계산\n",
    "        now_value = float(txout_rpc_content['vout'][row[1]]['value'])\n",
    "        total_spent_value += now_value\n",
    "        \n",
    "        # usd 계산\n",
    "        active_time = txout_rpc_content['time']\n",
    "        itime = datetime.datetime.fromtimestamp(active_time).strftime('%Y-%m-%d') # convert to datetime\n",
    "        try:\n",
    "            convert_susd = float(list(preprocess_csv[preprocess_csv['date'] == itime]['USD'])[0].replace(\",\",\"\")) # search usd\n",
    "        except IndexError:\n",
    "            convert_susd = float(list(preprocess_csv[preprocess_csv['date'] == '2010-07-18']['USD'])[0].replace(\",\",\"\")) # search usd\n",
    "        total_spent_usd += now_value * convert_susd\n",
    "        \n",
    "    return total_spent_value, total_spent_usd"
   ]
  },
  {
   "cell_type": "markdown",
   "metadata": {},
   "source": [
    "### Address BTC Received / Address USD Received / Address Balance"
   ]
  },
  {
   "cell_type": "code",
   "execution_count": 16,
   "metadata": {},
   "outputs": [],
   "source": [
    "def get_addr_btc_usd_received(addr_id):\n",
    "    total_received_value = 0.0 # btc\n",
    "    total_received_usd = 0.0; convert_susd = 0.0 # usd\n",
    "    sum_utxo_btc = 0.0 # balance\n",
    "    \n",
    "    tx_cache_index = -1 # txhash_index를 저장 -> tx_index\n",
    "    txin_rpc_content = list() # input에 해당하는 rpc tx 내용 저장 -> [rpc_tx_in_context]\n",
    "\n",
    "    cur.execute('''SELECT tx, n FROM TxIn WHERE addr = ?''', (addr_id,)) # 약 40만개\n",
    "    for row in cur:\n",
    "        try:\n",
    "            if row[0] != tx_cache_index: # 한번도 방문을 하지 않았던 거래\n",
    "                tx_cache_index = row[0] # 방문했다는 표시\n",
    "\n",
    "                tmp_cur.execute('''SELECT txhash FROM TxID WHERE id = ?''', (row[0],))\n",
    "                first_tx_in = tmp_cur.fetchone()[0] # inputs에 해당 주소가 있는 거래의 hash값을 가져옴\n",
    "                txin_rpc_content = rpc_connection.getrawtransaction(first_tx_in, 1)\n",
    "\n",
    "            # 방문하지 않았던 거래의 경우 새롭게 값 할당 후, 아래의 코드 실행\n",
    "            # 방문을 이미 했었던 거래의 경우는 바로 아래의 코드 실행\n",
    "            txin_to_txout_hash = txin_rpc_content['vin'][row[1]]['txid']\n",
    "            txin_to_txout_n = txin_rpc_content['vin'][row[1]]['vout']\n",
    "            \n",
    "            now_value = float(rpc_connection.getrawtransaction(txin_to_txout_hash, 1)['vout'][txin_to_txout_n]['value'])\n",
    "            total_received_value += now_value\n",
    "            \n",
    "            # usd 계산\n",
    "            active_time = txin_rpc_content['time']\n",
    "            itime = datetime.datetime.fromtimestamp(active_time).strftime('%Y-%m-%d') # convert to datetime\n",
    "            try:\n",
    "                convert_susd = float(list(preprocess_csv[preprocess_csv['date'] == itime]['USD'])[0].replace(\",\",\"\")) # search usd\n",
    "            except IndexError:\n",
    "                convert_susd = float(list(preprocess_csv[preprocess_csv['date'] == '2010-07-18']['USD'])[0].replace(\",\",\"\")) # search usd\n",
    "\n",
    "            total_received_usd += now_value * convert_susd\n",
    "            # ----------------------------------------------------------------------------------------------------------------------------\n",
    "            # balance 계산\n",
    "            for vo in txin_rpc_content['vout']:\n",
    "                try:\n",
    "                    tmp_cur.execute('''SELECT id FROM AddrID WHERE addr = ?''', (vo['scriptPubKey']['addresses'][0],))\n",
    "                    addr_index = tmp_cur.fetchone()[0]\n",
    "                    tmp_cur.execute('''SELECT count(*) FROM TxIn WHERE addr = ?''', (addr_index,))\n",
    "                    if tmp_cur.fetchone()[0] == 0:\n",
    "                        sum_utxo_btc += float(vo['value'])\n",
    "                except KeyError:\n",
    "                    continue\n",
    "        except JSONRPCException:\n",
    "            continue\n",
    "        except TypeError:\n",
    "            print(txin_rpc_content)\n",
    "            continue\n",
    "            \n",
    "    return total_received_value, total_received_usd, sum_utxo_btc"
   ]
  },
  {
   "cell_type": "markdown",
   "metadata": {},
   "source": [
    "### Address lifetime(age)"
   ]
  },
  {
   "cell_type": "code",
   "execution_count": 17,
   "metadata": {},
   "outputs": [],
   "source": [
    "def get_age(addr_id):\n",
    "    # txhash를 TxIn, TxOut에서 찾아야 함\n",
    "    hash_in_list = list(); hash_out_list = list()\n",
    "    cur.execute('''SELECT tx FROM TxIn WHERE addr = ?''', (addr_id,))\n",
    "    for row in cur:\n",
    "        hash_in_list.append(row[0]) # tx가 들어있는 id를 저장 / 중복 제거\n",
    "    cur.execute('''SELECT tx FROM TxOut WHERE addr = ?''', (addr_id,))\n",
    "    for row in cur:\n",
    "        hash_out_list.append(row[0])\n",
    "    \n",
    "    if len(hash_in_list) != 0 and len(hash_out_list) != 0:\n",
    "        check_min_max = [hash_in_list[0], hash_out_list[0], hash_in_list[len(hash_in_list) - 1], hash_out_list[len(hash_out_list) - 1]]\n",
    "        check_time = list()\n",
    "        for cmm in check_min_max:\n",
    "            cur.execute('''SELECT txhash FROM TxID WHERE id = ?''', (cmm,))\n",
    "            txhash = cur.fetchone()[0]\n",
    "            check_time.append(rpc_connection.getrawtransaction(txhash, 1)['time'])\n",
    "\n",
    "        # check min active time\n",
    "        if check_time[0] < check_time[1]:\n",
    "            check_time.append(check_time[0])\n",
    "        else:\n",
    "            check_time.append(check_time[1])\n",
    "\n",
    "        # check max active time\n",
    "        if check_time[2] < check_time[3]:\n",
    "            check_time.append(check_time[3])\n",
    "        else:\n",
    "            check_time.append(check_time[2])\n",
    "\n",
    "        return check_time[5] - check_time[4]\n",
    "    elif len(hash_in_list) == 0 and len(hash_out_list) > 1:\n",
    "        cur.execute('''SELECT txhash FROM TxID WHERE id = ?''', (hash_out_list[0],))\n",
    "        txhash = cur.fetchone()[0]\n",
    "        min_time = rpc_connection.getrawtransaction(txhash, 1)['time']\n",
    "        cur.execute('''SELECT txhash FROM TxID WHERE id = ?''', (hash_out_list[1],))\n",
    "        txhash = cur.fetchone()[0]\n",
    "        max_time = rpc_connection.getrawtransaction(txhash, 1)['time']\n",
    "        return max_time - min_time\n",
    "    elif len(hash_in_list) > 1 and len(hash_out_list) == 0:\n",
    "        cur.execute('''SELECT txhash FROM TxID WHERE id = ?''', (hash_in_list[0],))\n",
    "        txhash = cur.fetchone()[0]\n",
    "        min_time = rpc_connection.getrawtransaction(txhash, 1)['time']\n",
    "        cur.execute('''SELECT txhash FROM TxID WHERE id = ?''', (hash_in_list[1],))\n",
    "        txhash = cur.fetchone()[0]\n",
    "        max_time = rpc_connection.getrawtransaction(txhash, 1)['time']\n",
    "        return max_time - min_time\n",
    "    else:\n",
    "        return 0.0"
   ]
  },
  {
   "cell_type": "markdown",
   "metadata": {},
   "source": [
    "### Transaction fee"
   ]
  },
  {
   "cell_type": "code",
   "execution_count": 18,
   "metadata": {},
   "outputs": [],
   "source": [
    "def get_fee_tx(txin_sum_btc, txout_sum_btc):\n",
    "    return txin_sum_btc - txout_sum_btc"
   ]
  },
  {
   "cell_type": "markdown",
   "metadata": {},
   "source": [
    "### Address Number Sent"
   ]
  },
  {
   "cell_type": "code",
   "execution_count": 19,
   "metadata": {},
   "outputs": [],
   "source": [
    "def get_number_spent(addr_id):\n",
    "#     # AddrID에서 addr의 index먼저 찾기\n",
    "#     index_cur.execute('''SELECT id FROM AddrID WHERE addr = ?''', (saddr,))\n",
    "#     find_addr_id = index_cur.fetchone()[0] # searched addr index\n",
    "    # addr id사용해서 txhash.db의 TxOut table에서 id가 일치하는 것 출력\n",
    "    cur.execute('''SELECT count(*) FROM TxOut WHERE addr = ?''', (addr_id,))\n",
    "    return cur.fetchone()[0]"
   ]
  },
  {
   "cell_type": "markdown",
   "metadata": {},
   "source": [
    "### Address Number Received"
   ]
  },
  {
   "cell_type": "code",
   "execution_count": 20,
   "metadata": {},
   "outputs": [],
   "source": [
    "def get_number_received(addr_id):\n",
    "#     # AddrID에서 addr의 index먼저 찾기\n",
    "#     index_cur.execute('''SELECT id FROM AddrID WHERE addr = ?''', (saddr,))\n",
    "#     find_addr_id = index_cur.fetchone()[0] # searched addr index\n",
    "    # addr id사용해서 txhash.db의 TxOut table에서 id가 일치하는 것 출력\n",
    "    cur.execute('''SELECT count(*) FROM TxIn WHERE addr = ?''', (addr_id,))\n",
    "    return cur.fetchone()[0]"
   ]
  },
  {
   "cell_type": "markdown",
   "metadata": {},
   "source": [
    "# 특징 추출 함수들을 호출하는 컨트롤 함수"
   ]
  },
  {
   "cell_type": "code",
   "execution_count": 21,
   "metadata": {},
   "outputs": [],
   "source": [
    "from tqdm import tqdm\n",
    "\n",
    "def max_min_avg_std(flist):\n",
    "    return (max(flist), min(flist), np.mean(flist)) # 일단 std구하는건 제거한 상태\n",
    "\n",
    "def control_address_feature(cluster_addresses):\n",
    "    btc_spent_list = list(); btc_received_list = list()\n",
    "    usd_spent_list = list(); usd_received_list = list()\n",
    "    balance_list = list(); age_list = list()\n",
    "    fee_tx_list = list(); number_spent_list = list(); number_received_list = list()\n",
    "    \n",
    "    for ca in tqdm(cluster_addresses):\n",
    "        # AddrID에서 addr의 index먼저 찾기 (현재 특징의 공통된 작업임)\n",
    "        cur.execute('''SELECT id FROM AddrID WHERE addr = ?''', (ca,))\n",
    "        find_addr_id = cur.fetchone()[0] # searched addr index\n",
    "        try:\n",
    "            spent_btc, spent_usd = get_addr_btc_usd_spent(find_addr_id)\n",
    "            btc_spent_list.append(spent_btc)\n",
    "            usd_spent_list.append(spent_usd)\n",
    "            received_btc, received_usd, balance = get_addr_btc_usd_received(find_addr_id)\n",
    "            btc_received_list.append(received_btc)\n",
    "            usd_received_list.append(received_usd)\n",
    "            balance_list.append(balance)\n",
    "            age_list.append(get_age(find_addr_id))\n",
    "            fee_tx_list.append(get_fee_tx(spent_btc, received_btc))\n",
    "            number_spent_list.append(get_number_spent(find_addr_id))\n",
    "            number_received_list.append(get_number_received(find_addr_id))\n",
    "        except JSONRPCException:\n",
    "            continue\n",
    "        except OSError:\n",
    "            continue\n",
    "    \n",
    "    try:\n",
    "        return [max_min_avg_std(btc_spent_list), max_min_avg_std(btc_received_list), max_min_avg_std(usd_spent_list), \n",
    "        max_min_avg_std(usd_received_list), max_min_avg_std(balance_list), max_min_avg_std(age_list),\n",
    "        max_min_avg_std(fee_tx_list), max_min_avg_std(number_spent_list), max_min_avg_std(number_received_list)]\n",
    "    except ValueError:\n",
    "        return list()"
   ]
  },
  {
   "cell_type": "markdown",
   "metadata": {},
   "source": [
    "## Blockchain JSON_RPC이용하기 위한 코드"
   ]
  },
  {
   "cell_type": "code",
   "execution_count": 22,
   "metadata": {},
   "outputs": [],
   "source": [
    "from secret import rpc_user, rpc_password"
   ]
  },
  {
   "cell_type": "code",
   "execution_count": 23,
   "metadata": {},
   "outputs": [
    {
     "name": "stdout",
     "output_type": "stream",
     "text": [
      "Bitcoind PID: 30675\n",
      "\n"
     ]
    }
   ],
   "source": [
    "## Check the bitcoind running\n",
    "import os\n",
    "\n",
    "datadir = os.path.abspath(os.path.expanduser('~/.bitcoin'))\n",
    "pid_path = os.path.join(datadir, 'bitcoind.pid')\n",
    "if os.path.exists(pid_path):\n",
    "    with open(pid_path, 'r') as f:\n",
    "        print(f'Bitcoind PID: {f.read()}')\n",
    "else:\n",
    "    raise SystemExit('Bitcoind is not running!')"
   ]
  },
  {
   "cell_type": "code",
   "execution_count": 24,
   "metadata": {},
   "outputs": [],
   "source": [
    "from address_convertor import pubkey_to_address, get_pubkey"
   ]
  },
  {
   "cell_type": "code",
   "execution_count": 25,
   "metadata": {},
   "outputs": [],
   "source": [
    "## Some function for convenient\n",
    "import datetime\n",
    "\n",
    "tz_seoul = datetime.timezone(datetime.timedelta(hours=9))\n",
    "tz_utc = datetime.timezone(datetime.timedelta())\n",
    "\n",
    "def get_time(timestamp):\n",
    "    return datetime.datetime.fromtimestamp(timestamp, tz=tz_seoul)"
   ]
  },
  {
   "cell_type": "code",
   "execution_count": 26,
   "metadata": {},
   "outputs": [
    {
     "name": "stdout",
     "output_type": "stream",
     "text": [
      "Best Block Heights: 635911, Time: 2020-06-23T09:53:50+09:00\n"
     ]
    }
   ],
   "source": [
    "import datetime\n",
    "from bitcoinrpc.authproxy import AuthServiceProxy, JSONRPCException\n",
    "rpc_ip = '127.0.0.1'\n",
    "rpc_port = '8332'\n",
    "timeout = 300\n",
    "\n",
    "def get_rpc():\n",
    "    return AuthServiceProxy(f'http://{rpc_user}:{rpc_password}@{rpc_ip}:{rpc_port}', timeout=timeout)\n",
    "\n",
    "rpc_connection = get_rpc()\n",
    "best_block_hash = rpc_connection.getbestblockhash()\n",
    "best_block = rpc_connection.getblock(best_block_hash)\n",
    "print(f'Best Block Heights: {best_block[\"height\"]}, Time: {get_time(best_block[\"time\"]).isoformat()}')"
   ]
  },
  {
   "cell_type": "markdown",
   "metadata": {},
   "source": [
    "## 여기가 multi_input으로 클러스터 만든 주소들의 특징 추출과정"
   ]
  },
  {
   "cell_type": "code",
   "execution_count": 27,
   "metadata": {},
   "outputs": [
    {
     "data": {
      "text/plain": [
       "976"
      ]
     },
     "execution_count": 27,
     "metadata": {},
     "output_type": "execute_result"
    }
   ],
   "source": [
    "len(category_multi_input_addr)"
   ]
  },
  {
   "cell_type": "code",
   "execution_count": null,
   "metadata": {
    "scrolled": true
   },
   "outputs": [],
   "source": [
    "import time\n",
    "import numpy as np\n",
    "\n",
    "rpc_connection = get_rpc()\n",
    "cluster_feature = dict()\n",
    "total_time = time.time()\n",
    "for cmid in category_multi_input_addr:\n",
    "    start_time = time.time()\n",
    "    cluster_feature[cmid] = control_address_feature(category_multi_input_addr[cmid])\n",
    "    print(cmid + \" feature extract finish! - time : \" + str(time.time()-start_time))\n",
    "print('total_time : ' + str(time.time()-total_time))"
   ]
  },
  {
   "cell_type": "code",
   "execution_count": 41,
   "metadata": {},
   "outputs": [],
   "source": [
    "# list()만 들어가있는 클러스터 제거(전처리)\n",
    "new_cluster_feature = dict()\n",
    "for cf in cluster_feature:\n",
    "    if cluster_feature[cf] != list():\n",
    "        new_cluster_feature[cf] = cluster_feature[cf]"
   ]
  },
  {
   "cell_type": "code",
   "execution_count": 115,
   "metadata": {},
   "outputs": [],
   "source": [
    "import pickle\n",
    "\n",
    "with open('./category_feature_pickle/mining_scam_exchange_without_four_exchange.pickle', 'wb') as f:\n",
    "    pickle.dump(cluster_feature, f)"
   ]
  },
  {
   "cell_type": "code",
   "execution_count": null,
   "metadata": {},
   "outputs": [],
   "source": []
  },
  {
   "cell_type": "code",
   "execution_count": null,
   "metadata": {},
   "outputs": [],
   "source": []
  },
  {
   "cell_type": "code",
   "execution_count": null,
   "metadata": {},
   "outputs": [],
   "source": []
  },
  {
   "cell_type": "code",
   "execution_count": 112,
   "metadata": {},
   "outputs": [],
   "source": [
    "tmp_feature = cluster_feature.copy()"
   ]
  },
  {
   "cell_type": "markdown",
   "metadata": {},
   "source": [
    "### exchange에서 4대 거래소 제거한 다음 다른 파일의 4대 거래소 특징을 추가하는 부분"
   ]
  },
  {
   "cell_type": "markdown",
   "metadata": {},
   "source": [
    "## exchange 에서 4대 거래소 제거과정"
   ]
  },
  {
   "cell_type": "code",
   "execution_count": 107,
   "metadata": {},
   "outputs": [
    {
     "name": "stdout",
     "output_type": "stream",
     "text": [
      "58 : 1BhrNoLRT62o3vdUnXDm62hBpa55goQC8h\n",
      "357 : 3GDgbaYyoKyY1qc369FhoiqxRCBi9aaHNM\n",
      "368 : 13DdfKxdExuucK3XigjubTrrUWxkEQxYpm\n",
      "384 : 1E4wTKtmjJN2EMEfYQfTmudyzfDMNnoYCM\n"
     ]
    }
   ],
   "source": [
    "search_list = ['1BhrNoLRT62o3vdUnXDm62hBpa55goQC8h', '13DdfKxdExuucK3XigjubTrrUWxkEQxYpm', \n",
    "               '1E4wTKtmjJN2EMEfYQfTmudyzfDMNnoYCM', '3GDgbaYyoKyY1qc369FhoiqxRCBi9aaHNM']\n",
    "\n",
    "count = 0\n",
    "for i, ec in enumerate(category_per_dict['exchange']):\n",
    "    if count == 4:\n",
    "        break\n",
    "    \n",
    "    if ec in search_list:\n",
    "        print(str(i) + ' : ' + ec)\n",
    "        count += 1"
   ]
  },
  {
   "cell_type": "code",
   "execution_count": 113,
   "metadata": {},
   "outputs": [
    {
     "name": "stdout",
     "output_type": "stream",
     "text": [
      "571\n",
      "567\n"
     ]
    }
   ],
   "source": [
    "print(len(cluster_feature))\n",
    "del cluster_feature['exchange58']\n",
    "del cluster_feature['exchange357']\n",
    "del cluster_feature['exchange368']\n",
    "del cluster_feature['exchange384']\n",
    "print(len(cluster_feature))"
   ]
  },
  {
   "cell_type": "markdown",
   "metadata": {},
   "source": [
    "## ----------------------------------------------------------------------------------------------------------------------\n",
    "## 거래소 분류 모델을 사용한 exchange분류"
   ]
  },
  {
   "cell_type": "code",
   "execution_count": 76,
   "metadata": {},
   "outputs": [],
   "source": [
    "exchange_feature = dict()\n",
    "with open('./category_feature_pickle/mining_scam_ransomware_exchange.pickle', 'rb') as fr:\n",
    "    exchange_feature = pickle.load(fr)"
   ]
  },
  {
   "cell_type": "code",
   "execution_count": 49,
   "metadata": {
    "scrolled": true
   },
   "outputs": [],
   "source": [
    "import pickle\n",
    "\n",
    "bithumb_feature = dict()\n",
    "with open('/home/dnlabblocksci/바탕화면/backup_bitcoinfile_dongjun/dongjun-blocksci-test/db/four_exchange_feature_file/bithumb_cluster_address_part1.pickle', 'rb') as fr:\n",
    "    bithumb_feature = pickle.load(fr)"
   ]
  },
  {
   "cell_type": "code",
   "execution_count": 50,
   "metadata": {},
   "outputs": [],
   "source": [
    "korbit_feature = dict()\n",
    "with open('/home/dnlabblocksci/바탕화면/backup_bitcoinfile_dongjun/dongjun-blocksci-test/db/four_exchange_feature_file/korbit_cluster_address.pickle', 'rb') as fr:\n",
    "    korbit_feature = pickle.load(fr)"
   ]
  },
  {
   "cell_type": "code",
   "execution_count": 51,
   "metadata": {},
   "outputs": [],
   "source": [
    "coinone_feature = dict()\n",
    "with open('/home/dnlabblocksci/바탕화면/backup_bitcoinfile_dongjun/dongjun-blocksci-test/db/four_exchange_feature_file/coinone_cluster_address.pickle', 'rb') as fr:\n",
    "    coinone_feature = pickle.load(fr)"
   ]
  },
  {
   "cell_type": "code",
   "execution_count": 52,
   "metadata": {},
   "outputs": [],
   "source": [
    "upbit_feature = dict()\n",
    "with open('/home/dnlabblocksci/바탕화면/backup_bitcoinfile_dongjun/dongjun-blocksci-test/db/four_exchange_feature_file/upbit_cluster_address.pickle', 'rb') as fr:\n",
    "    upbit_feature = pickle.load(fr)"
   ]
  },
  {
   "cell_type": "code",
   "execution_count": 53,
   "metadata": {},
   "outputs": [],
   "source": [
    "# change [min, max, avg] to variables\n",
    "def change_dict(feature_dict):\n",
    "    fixed_feature_dict = dict(); label_list = list()\n",
    "    feature_name = ['btc_spent', 'btc_received', 'usd_spent', 'usd_received', 'balance', 'age', 'fee', 'number_spent', 'number_received']\n",
    "    for fn in feature_name:\n",
    "        fixed_feature_dict[fn + '_max'] = list()\n",
    "        fixed_feature_dict[fn + '_min'] = list()\n",
    "        fixed_feature_dict[fn + '_avg'] = list()\n",
    "    feature_list = list(feature_dict.keys())\n",
    "    \n",
    "    for fl in feature_list:\n",
    "        _body = feature_dict[str(fl)]\n",
    "        label_list.append(fl)\n",
    "        for i, b in enumerate(_body):\n",
    "            fixed_feature_dict[feature_name[i] + '_max'] += [b[0]]\n",
    "            fixed_feature_dict[feature_name[i] + '_min'] += [b[1]]\n",
    "            fixed_feature_dict[feature_name[i] + '_avg'] += [b[2]]\n",
    "    \n",
    "    return fixed_feature_dict, label_list"
   ]
  },
  {
   "cell_type": "code",
   "execution_count": 54,
   "metadata": {},
   "outputs": [],
   "source": [
    "fixed_bithumb_feature, bithumb_labels = change_dict(bithumb_feature)\n",
    "fixed_korbit_feature, korbit_labels = change_dict(korbit_feature)\n",
    "fixed_coinone_feature, coinone_labels = change_dict(coinone_feature)\n",
    "fixed_upbit_feature, upbit_labels = change_dict(upbit_feature)"
   ]
  },
  {
   "cell_type": "code",
   "execution_count": 55,
   "metadata": {},
   "outputs": [],
   "source": [
    "import pandas as pd\n",
    "bithumb_feature_df = pd.DataFrame(fixed_bithumb_feature)\n",
    "bithumb_label_df = pd.DataFrame({'labels': bithumb_labels})\n",
    "bithumb_ = pd.concat([bithumb_label_df, bithumb_feature_df], axis=1)\n",
    "\n",
    "korbit_feature_df = pd.DataFrame(fixed_korbit_feature)\n",
    "korbit_label_df = pd.DataFrame({'labels': korbit_labels})\n",
    "korbit_ = pd.concat([korbit_label_df, korbit_feature_df], axis=1)\n",
    "\n",
    "coinone_feature_df = pd.DataFrame(fixed_coinone_feature)\n",
    "coinone_label_df = pd.DataFrame({'labels': coinone_labels})\n",
    "coinone_ = pd.concat([coinone_label_df, coinone_feature_df], axis=1)\n",
    "\n",
    "upbit_feature_df = pd.DataFrame(fixed_upbit_feature)\n",
    "upbit_label_df = pd.DataFrame({'labels': upbit_labels})\n",
    "upbit_ = pd.concat([upbit_label_df, upbit_feature_df], axis=1)"
   ]
  },
  {
   "cell_type": "code",
   "execution_count": 56,
   "metadata": {},
   "outputs": [],
   "source": [
    "category_feature_df = pd.concat([bithumb_feature_df, korbit_feature_df, coinone_feature_df, upbit_feature_df])\n",
    "label_df = pd.concat([bithumb_label_df, korbit_label_df, coinone_label_df, upbit_label_df])\n",
    "result_for_pca = pd.concat([bithumb_, korbit_, coinone_, upbit_])"
   ]
  },
  {
   "cell_type": "code",
   "execution_count": 57,
   "metadata": {},
   "outputs": [
    {
     "data": {
      "text/html": [
       "<div>\n",
       "<style scoped>\n",
       "    .dataframe tbody tr th:only-of-type {\n",
       "        vertical-align: middle;\n",
       "    }\n",
       "\n",
       "    .dataframe tbody tr th {\n",
       "        vertical-align: top;\n",
       "    }\n",
       "\n",
       "    .dataframe thead th {\n",
       "        text-align: right;\n",
       "    }\n",
       "</style>\n",
       "<table border=\"1\" class=\"dataframe\">\n",
       "  <thead>\n",
       "    <tr style=\"text-align: right;\">\n",
       "      <th></th>\n",
       "      <th>btc_spent_max</th>\n",
       "      <th>btc_spent_min</th>\n",
       "      <th>btc_spent_avg</th>\n",
       "      <th>btc_received_max</th>\n",
       "      <th>btc_received_min</th>\n",
       "      <th>btc_received_avg</th>\n",
       "      <th>usd_spent_max</th>\n",
       "      <th>usd_spent_min</th>\n",
       "      <th>usd_spent_avg</th>\n",
       "      <th>usd_received_max</th>\n",
       "      <th>...</th>\n",
       "      <th>age_avg</th>\n",
       "      <th>fee_max</th>\n",
       "      <th>fee_min</th>\n",
       "      <th>fee_avg</th>\n",
       "      <th>number_spent_max</th>\n",
       "      <th>number_spent_min</th>\n",
       "      <th>number_spent_avg</th>\n",
       "      <th>number_received_max</th>\n",
       "      <th>number_received_min</th>\n",
       "      <th>number_received_avg</th>\n",
       "    </tr>\n",
       "  </thead>\n",
       "  <tbody>\n",
       "    <tr>\n",
       "      <th>0</th>\n",
       "      <td>77798.077159</td>\n",
       "      <td>0.000010</td>\n",
       "      <td>224.505073</td>\n",
       "      <td>20.000</td>\n",
       "      <td>0.000010</td>\n",
       "      <td>0.492947</td>\n",
       "      <td>3.359075e+07</td>\n",
       "      <td>0.005888</td>\n",
       "      <td>9.930458e+04</td>\n",
       "      <td>12760.000000</td>\n",
       "      <td>...</td>\n",
       "      <td>1.034617e+07</td>\n",
       "      <td>77789.077159</td>\n",
       "      <td>0.000000</td>\n",
       "      <td>224.012127</td>\n",
       "      <td>3234</td>\n",
       "      <td>1</td>\n",
       "      <td>14.570806</td>\n",
       "      <td>3202</td>\n",
       "      <td>1</td>\n",
       "      <td>14.753813</td>\n",
       "    </tr>\n",
       "    <tr>\n",
       "      <th>1</th>\n",
       "      <td>4212.611001</td>\n",
       "      <td>0.010000</td>\n",
       "      <td>422.016999</td>\n",
       "      <td>19.349</td>\n",
       "      <td>0.000253</td>\n",
       "      <td>2.534915</td>\n",
       "      <td>8.888869e+06</td>\n",
       "      <td>8.720061</td>\n",
       "      <td>6.547492e+05</td>\n",
       "      <td>18082.761762</td>\n",
       "      <td>...</td>\n",
       "      <td>1.485026e+07</td>\n",
       "      <td>4212.592001</td>\n",
       "      <td>0.000000</td>\n",
       "      <td>419.482085</td>\n",
       "      <td>479</td>\n",
       "      <td>1</td>\n",
       "      <td>94.447368</td>\n",
       "      <td>451</td>\n",
       "      <td>1</td>\n",
       "      <td>88.947368</td>\n",
       "    </tr>\n",
       "    <tr>\n",
       "      <th>2</th>\n",
       "      <td>7445.180929</td>\n",
       "      <td>0.150670</td>\n",
       "      <td>82.088296</td>\n",
       "      <td>37.000</td>\n",
       "      <td>0.001164</td>\n",
       "      <td>0.863586</td>\n",
       "      <td>3.866849e+07</td>\n",
       "      <td>581.451243</td>\n",
       "      <td>4.630368e+05</td>\n",
       "      <td>89266.200000</td>\n",
       "      <td>...</td>\n",
       "      <td>1.426833e+07</td>\n",
       "      <td>7444.265094</td>\n",
       "      <td>0.000000</td>\n",
       "      <td>81.224711</td>\n",
       "      <td>4367</td>\n",
       "      <td>1</td>\n",
       "      <td>81.602694</td>\n",
       "      <td>7831</td>\n",
       "      <td>1</td>\n",
       "      <td>78.272727</td>\n",
       "    </tr>\n",
       "    <tr>\n",
       "      <th>3</th>\n",
       "      <td>4064.163600</td>\n",
       "      <td>4.759344</td>\n",
       "      <td>1027.443665</td>\n",
       "      <td>13.258</td>\n",
       "      <td>0.170386</td>\n",
       "      <td>4.412492</td>\n",
       "      <td>2.447705e+07</td>\n",
       "      <td>29453.959211</td>\n",
       "      <td>7.055855e+06</td>\n",
       "      <td>51812.264000</td>\n",
       "      <td>...</td>\n",
       "      <td>1.209650e+07</td>\n",
       "      <td>4060.080600</td>\n",
       "      <td>1.388324</td>\n",
       "      <td>1023.031173</td>\n",
       "      <td>553</td>\n",
       "      <td>2</td>\n",
       "      <td>151.750000</td>\n",
       "      <td>802</td>\n",
       "      <td>1</td>\n",
       "      <td>95.333333</td>\n",
       "    </tr>\n",
       "    <tr>\n",
       "      <th>4</th>\n",
       "      <td>8865.334185</td>\n",
       "      <td>1.449975</td>\n",
       "      <td>548.452785</td>\n",
       "      <td>13.258</td>\n",
       "      <td>0.145840</td>\n",
       "      <td>2.662719</td>\n",
       "      <td>4.627508e+07</td>\n",
       "      <td>8173.945984</td>\n",
       "      <td>3.180038e+06</td>\n",
       "      <td>51812.264000</td>\n",
       "      <td>...</td>\n",
       "      <td>1.140528e+07</td>\n",
       "      <td>8862.881185</td>\n",
       "      <td>0.000000</td>\n",
       "      <td>545.790065</td>\n",
       "      <td>4367</td>\n",
       "      <td>1</td>\n",
       "      <td>167.000000</td>\n",
       "      <td>7831</td>\n",
       "      <td>1</td>\n",
       "      <td>239.452381</td>\n",
       "    </tr>\n",
       "  </tbody>\n",
       "</table>\n",
       "<p>5 rows × 27 columns</p>\n",
       "</div>"
      ],
      "text/plain": [
       "   btc_spent_max  btc_spent_min  btc_spent_avg  btc_received_max  \\\n",
       "0   77798.077159       0.000010     224.505073            20.000   \n",
       "1    4212.611001       0.010000     422.016999            19.349   \n",
       "2    7445.180929       0.150670      82.088296            37.000   \n",
       "3    4064.163600       4.759344    1027.443665            13.258   \n",
       "4    8865.334185       1.449975     548.452785            13.258   \n",
       "\n",
       "   btc_received_min  btc_received_avg  usd_spent_max  usd_spent_min  \\\n",
       "0          0.000010          0.492947   3.359075e+07       0.005888   \n",
       "1          0.000253          2.534915   8.888869e+06       8.720061   \n",
       "2          0.001164          0.863586   3.866849e+07     581.451243   \n",
       "3          0.170386          4.412492   2.447705e+07   29453.959211   \n",
       "4          0.145840          2.662719   4.627508e+07    8173.945984   \n",
       "\n",
       "   usd_spent_avg  usd_received_max  ...       age_avg       fee_max   fee_min  \\\n",
       "0   9.930458e+04      12760.000000  ...  1.034617e+07  77789.077159  0.000000   \n",
       "1   6.547492e+05      18082.761762  ...  1.485026e+07   4212.592001  0.000000   \n",
       "2   4.630368e+05      89266.200000  ...  1.426833e+07   7444.265094  0.000000   \n",
       "3   7.055855e+06      51812.264000  ...  1.209650e+07   4060.080600  1.388324   \n",
       "4   3.180038e+06      51812.264000  ...  1.140528e+07   8862.881185  0.000000   \n",
       "\n",
       "       fee_avg  number_spent_max  number_spent_min  number_spent_avg  \\\n",
       "0   224.012127              3234                 1         14.570806   \n",
       "1   419.482085               479                 1         94.447368   \n",
       "2    81.224711              4367                 1         81.602694   \n",
       "3  1023.031173               553                 2        151.750000   \n",
       "4   545.790065              4367                 1        167.000000   \n",
       "\n",
       "   number_received_max  number_received_min  number_received_avg  \n",
       "0                 3202                    1            14.753813  \n",
       "1                  451                    1            88.947368  \n",
       "2                 7831                    1            78.272727  \n",
       "3                  802                    1            95.333333  \n",
       "4                 7831                    1           239.452381  \n",
       "\n",
       "[5 rows x 27 columns]"
      ]
     },
     "execution_count": 57,
     "metadata": {},
     "output_type": "execute_result"
    }
   ],
   "source": [
    "category_feature_df = category_feature_df.reset_index().drop(['index'], axis=1)\n",
    "category_feature_df.head()"
   ]
  },
  {
   "cell_type": "markdown",
   "metadata": {},
   "source": [
    "### LightGBM 사용"
   ]
  },
  {
   "cell_type": "code",
   "execution_count": 71,
   "metadata": {},
   "outputs": [],
   "source": [
    "from lightgbm import LGBMClassifier, plot_importance\n",
    "from sklearn.model_selection import train_test_split\n",
    "from sklearn.metrics import accuracy_score"
   ]
  },
  {
   "cell_type": "code",
   "execution_count": 61,
   "metadata": {},
   "outputs": [],
   "source": [
    "change_number = {'bithumb': 0, 'korbit': 1, 'coinone': 2, 'upbit': 3}\n",
    "\n",
    "def change_lable_to_num(label):\n",
    "    for cn in change_number:\n",
    "        if cn in label:\n",
    "            return change_number[cn]"
   ]
  },
  {
   "cell_type": "code",
   "execution_count": 62,
   "metadata": {},
   "outputs": [],
   "source": [
    "label_to_num = label_df.copy()"
   ]
  },
  {
   "cell_type": "code",
   "execution_count": 63,
   "metadata": {},
   "outputs": [],
   "source": [
    "label_to_num['label_num'] = label_to_num.apply(lambda x:change_lable_to_num(x['labels']), axis=1)\n",
    "label_to_num = label_to_num.drop(['labels'], axis=1)"
   ]
  },
  {
   "cell_type": "code",
   "execution_count": 64,
   "metadata": {},
   "outputs": [
    {
     "data": {
      "text/html": [
       "<div>\n",
       "<style scoped>\n",
       "    .dataframe tbody tr th:only-of-type {\n",
       "        vertical-align: middle;\n",
       "    }\n",
       "\n",
       "    .dataframe tbody tr th {\n",
       "        vertical-align: top;\n",
       "    }\n",
       "\n",
       "    .dataframe thead th {\n",
       "        text-align: right;\n",
       "    }\n",
       "</style>\n",
       "<table border=\"1\" class=\"dataframe\">\n",
       "  <thead>\n",
       "    <tr style=\"text-align: right;\">\n",
       "      <th></th>\n",
       "      <th>label_num</th>\n",
       "    </tr>\n",
       "  </thead>\n",
       "  <tbody>\n",
       "    <tr>\n",
       "      <th>0</th>\n",
       "      <td>0</td>\n",
       "    </tr>\n",
       "    <tr>\n",
       "      <th>1</th>\n",
       "      <td>0</td>\n",
       "    </tr>\n",
       "    <tr>\n",
       "      <th>2</th>\n",
       "      <td>0</td>\n",
       "    </tr>\n",
       "    <tr>\n",
       "      <th>3</th>\n",
       "      <td>0</td>\n",
       "    </tr>\n",
       "    <tr>\n",
       "      <th>4</th>\n",
       "      <td>0</td>\n",
       "    </tr>\n",
       "  </tbody>\n",
       "</table>\n",
       "</div>"
      ],
      "text/plain": [
       "   label_num\n",
       "0          0\n",
       "1          0\n",
       "2          0\n",
       "3          0\n",
       "4          0"
      ]
     },
     "execution_count": 64,
     "metadata": {},
     "output_type": "execute_result"
    }
   ],
   "source": [
    "label_to_num.astype({'label_num': int})\n",
    "label_to_num.head()"
   ]
  },
  {
   "cell_type": "code",
   "execution_count": 68,
   "metadata": {},
   "outputs": [],
   "source": [
    "X_train, X_test, y_train, y_test = train_test_split(category_feature_df, label_to_num, test_size=0.2, random_state=10)"
   ]
  },
  {
   "cell_type": "code",
   "execution_count": 69,
   "metadata": {},
   "outputs": [
    {
     "name": "stderr",
     "output_type": "stream",
     "text": [
      "/home/dnlabblocksci/.local/lib/python3.7/site-packages/sklearn/utils/validation.py:73: DataConversionWarning: A column-vector y was passed when a 1d array was expected. Please change the shape of y to (n_samples, ), for example using ravel().\n",
      "  return f(**kwargs)\n"
     ]
    },
    {
     "data": {
      "text/plain": [
       "LGBMClassifier(n_estimators=400)"
      ]
     },
     "execution_count": 69,
     "metadata": {},
     "output_type": "execute_result"
    }
   ],
   "source": [
    "lgb = LGBMClassifier(n_estimators=400)\n",
    "lgb.fit(X_train, y_train)"
   ]
  },
  {
   "cell_type": "code",
   "execution_count": 72,
   "metadata": {},
   "outputs": [
    {
     "name": "stdout",
     "output_type": "stream",
     "text": [
      "정확도 : 0.953\n"
     ]
    }
   ],
   "source": [
    "lgb_pred = lgb.predict(X_test)\n",
    "print(\"정확도 : {0:.3f}\".format(accuracy_score(y_test, lgb_pred)))"
   ]
  },
  {
   "cell_type": "code",
   "execution_count": 77,
   "metadata": {},
   "outputs": [],
   "source": [
    "ex_feature, ex_label = change_dict(exchange_feature)\n",
    "ex_feature_df = pd.DataFrame(ex_feature)\n",
    "ex_label_df = pd.DataFrame({'labels': ex_label})"
   ]
  },
  {
   "cell_type": "code",
   "execution_count": 85,
   "metadata": {
    "scrolled": true
   },
   "outputs": [
    {
     "data": {
      "text/html": [
       "<div>\n",
       "<style scoped>\n",
       "    .dataframe tbody tr th:only-of-type {\n",
       "        vertical-align: middle;\n",
       "    }\n",
       "\n",
       "    .dataframe tbody tr th {\n",
       "        vertical-align: top;\n",
       "    }\n",
       "\n",
       "    .dataframe thead th {\n",
       "        text-align: right;\n",
       "    }\n",
       "</style>\n",
       "<table border=\"1\" class=\"dataframe\">\n",
       "  <thead>\n",
       "    <tr style=\"text-align: right;\">\n",
       "      <th></th>\n",
       "      <th>labels</th>\n",
       "    </tr>\n",
       "  </thead>\n",
       "  <tbody>\n",
       "    <tr>\n",
       "      <th>146</th>\n",
       "      <td>exchange0</td>\n",
       "    </tr>\n",
       "    <tr>\n",
       "      <th>147</th>\n",
       "      <td>exchange1</td>\n",
       "    </tr>\n",
       "    <tr>\n",
       "      <th>148</th>\n",
       "      <td>exchange2</td>\n",
       "    </tr>\n",
       "    <tr>\n",
       "      <th>149</th>\n",
       "      <td>exchange3</td>\n",
       "    </tr>\n",
       "    <tr>\n",
       "      <th>150</th>\n",
       "      <td>exchange4</td>\n",
       "    </tr>\n",
       "    <tr>\n",
       "      <th>...</th>\n",
       "      <td>...</td>\n",
       "    </tr>\n",
       "    <tr>\n",
       "      <th>566</th>\n",
       "      <td>exchange421</td>\n",
       "    </tr>\n",
       "    <tr>\n",
       "      <th>567</th>\n",
       "      <td>exchange422</td>\n",
       "    </tr>\n",
       "    <tr>\n",
       "      <th>568</th>\n",
       "      <td>exchange423</td>\n",
       "    </tr>\n",
       "    <tr>\n",
       "      <th>569</th>\n",
       "      <td>exchange424</td>\n",
       "    </tr>\n",
       "    <tr>\n",
       "      <th>570</th>\n",
       "      <td>exchange425</td>\n",
       "    </tr>\n",
       "  </tbody>\n",
       "</table>\n",
       "<p>425 rows × 1 columns</p>\n",
       "</div>"
      ],
      "text/plain": [
       "          labels\n",
       "146    exchange0\n",
       "147    exchange1\n",
       "148    exchange2\n",
       "149    exchange3\n",
       "150    exchange4\n",
       "..           ...\n",
       "566  exchange421\n",
       "567  exchange422\n",
       "568  exchange423\n",
       "569  exchange424\n",
       "570  exchange425\n",
       "\n",
       "[425 rows x 1 columns]"
      ]
     },
     "execution_count": 85,
     "metadata": {},
     "output_type": "execute_result"
    }
   ],
   "source": [
    "ex_label_df.iloc[146:, :]"
   ]
  },
  {
   "cell_type": "code",
   "execution_count": 87,
   "metadata": {},
   "outputs": [],
   "source": [
    "only_exchange = ex_feature_df.iloc[146:, :] # 146부터가 exchange"
   ]
  },
  {
   "cell_type": "code",
   "execution_count": 90,
   "metadata": {},
   "outputs": [],
   "source": [
    "predict_ex = lgb.predict(only_exchange)"
   ]
  },
  {
   "cell_type": "code",
   "execution_count": 94,
   "metadata": {},
   "outputs": [
    {
     "data": {
      "text/plain": [
       "Counter({1: 257, 0: 93, 2: 61, 3: 14})"
      ]
     },
     "execution_count": 94,
     "metadata": {},
     "output_type": "execute_result"
    }
   ],
   "source": [
    "import collections\n",
    "collections.Counter(predict_ex)"
   ]
  },
  {
   "cell_type": "code",
   "execution_count": 95,
   "metadata": {},
   "outputs": [
    {
     "data": {
      "text/html": [
       "<div>\n",
       "<style scoped>\n",
       "    .dataframe tbody tr th:only-of-type {\n",
       "        vertical-align: middle;\n",
       "    }\n",
       "\n",
       "    .dataframe tbody tr th {\n",
       "        vertical-align: top;\n",
       "    }\n",
       "\n",
       "    .dataframe thead th {\n",
       "        text-align: right;\n",
       "    }\n",
       "</style>\n",
       "<table border=\"1\" class=\"dataframe\">\n",
       "  <thead>\n",
       "    <tr style=\"text-align: right;\">\n",
       "      <th></th>\n",
       "      <th>labels</th>\n",
       "    </tr>\n",
       "  </thead>\n",
       "  <tbody>\n",
       "    <tr>\n",
       "      <th>0</th>\n",
       "      <td>1</td>\n",
       "    </tr>\n",
       "    <tr>\n",
       "      <th>1</th>\n",
       "      <td>1</td>\n",
       "    </tr>\n",
       "    <tr>\n",
       "      <th>2</th>\n",
       "      <td>1</td>\n",
       "    </tr>\n",
       "    <tr>\n",
       "      <th>3</th>\n",
       "      <td>1</td>\n",
       "    </tr>\n",
       "    <tr>\n",
       "      <th>4</th>\n",
       "      <td>0</td>\n",
       "    </tr>\n",
       "    <tr>\n",
       "      <th>...</th>\n",
       "      <td>...</td>\n",
       "    </tr>\n",
       "    <tr>\n",
       "      <th>420</th>\n",
       "      <td>1</td>\n",
       "    </tr>\n",
       "    <tr>\n",
       "      <th>421</th>\n",
       "      <td>1</td>\n",
       "    </tr>\n",
       "    <tr>\n",
       "      <th>422</th>\n",
       "      <td>0</td>\n",
       "    </tr>\n",
       "    <tr>\n",
       "      <th>423</th>\n",
       "      <td>0</td>\n",
       "    </tr>\n",
       "    <tr>\n",
       "      <th>424</th>\n",
       "      <td>0</td>\n",
       "    </tr>\n",
       "  </tbody>\n",
       "</table>\n",
       "<p>425 rows × 1 columns</p>\n",
       "</div>"
      ],
      "text/plain": [
       "     labels\n",
       "0         1\n",
       "1         1\n",
       "2         1\n",
       "3         1\n",
       "4         0\n",
       "..      ...\n",
       "420       1\n",
       "421       1\n",
       "422       0\n",
       "423       0\n",
       "424       0\n",
       "\n",
       "[425 rows x 1 columns]"
      ]
     },
     "execution_count": 95,
     "metadata": {},
     "output_type": "execute_result"
    }
   ],
   "source": [
    "pd.DataFrame({'labels' : predict_ex})"
   ]
  },
  {
   "cell_type": "code",
   "execution_count": 98,
   "metadata": {},
   "outputs": [],
   "source": [
    "only_exchange = only_exchange.reset_index().drop(['index'], axis=1)"
   ]
  },
  {
   "cell_type": "code",
   "execution_count": 103,
   "metadata": {},
   "outputs": [
    {
     "data": {
      "text/html": [
       "<div>\n",
       "<style scoped>\n",
       "    .dataframe tbody tr th:only-of-type {\n",
       "        vertical-align: middle;\n",
       "    }\n",
       "\n",
       "    .dataframe tbody tr th {\n",
       "        vertical-align: top;\n",
       "    }\n",
       "\n",
       "    .dataframe thead th {\n",
       "        text-align: right;\n",
       "    }\n",
       "</style>\n",
       "<table border=\"1\" class=\"dataframe\">\n",
       "  <thead>\n",
       "    <tr style=\"text-align: right;\">\n",
       "      <th></th>\n",
       "      <th>labels</th>\n",
       "      <th>btc_spent_max</th>\n",
       "      <th>btc_spent_min</th>\n",
       "      <th>btc_spent_avg</th>\n",
       "      <th>btc_received_max</th>\n",
       "      <th>btc_received_min</th>\n",
       "      <th>btc_received_avg</th>\n",
       "      <th>usd_spent_max</th>\n",
       "      <th>usd_spent_min</th>\n",
       "      <th>usd_spent_avg</th>\n",
       "      <th>...</th>\n",
       "      <th>age_avg</th>\n",
       "      <th>fee_max</th>\n",
       "      <th>fee_min</th>\n",
       "      <th>fee_avg</th>\n",
       "      <th>number_spent_max</th>\n",
       "      <th>number_spent_min</th>\n",
       "      <th>number_spent_avg</th>\n",
       "      <th>number_received_max</th>\n",
       "      <th>number_received_min</th>\n",
       "      <th>number_received_avg</th>\n",
       "    </tr>\n",
       "  </thead>\n",
       "  <tbody>\n",
       "    <tr>\n",
       "      <th>0</th>\n",
       "      <td>1</td>\n",
       "      <td>52.042482</td>\n",
       "      <td>8.510636</td>\n",
       "      <td>36.295453</td>\n",
       "      <td>52.042482</td>\n",
       "      <td>8.510636</td>\n",
       "      <td>36.295453</td>\n",
       "      <td>2.663563e+04</td>\n",
       "      <td>5.796361e+03</td>\n",
       "      <td>1.903797e+04</td>\n",
       "      <td>...</td>\n",
       "      <td>3.817507e+07</td>\n",
       "      <td>0.0</td>\n",
       "      <td>-7.105427e-15</td>\n",
       "      <td>-2.368476e-15</td>\n",
       "      <td>1367</td>\n",
       "      <td>6</td>\n",
       "      <td>756.000000</td>\n",
       "      <td>1367</td>\n",
       "      <td>6</td>\n",
       "      <td>756.000000</td>\n",
       "    </tr>\n",
       "    <tr>\n",
       "      <th>1</th>\n",
       "      <td>1</td>\n",
       "      <td>0.010000</td>\n",
       "      <td>0.000078</td>\n",
       "      <td>0.003704</td>\n",
       "      <td>0.010000</td>\n",
       "      <td>0.000078</td>\n",
       "      <td>0.003704</td>\n",
       "      <td>1.154915e+01</td>\n",
       "      <td>1.093942e-02</td>\n",
       "      <td>4.251041e+00</td>\n",
       "      <td>...</td>\n",
       "      <td>2.396534e+06</td>\n",
       "      <td>0.0</td>\n",
       "      <td>0.000000e+00</td>\n",
       "      <td>0.000000e+00</td>\n",
       "      <td>2</td>\n",
       "      <td>1</td>\n",
       "      <td>1.333333</td>\n",
       "      <td>2</td>\n",
       "      <td>1</td>\n",
       "      <td>1.333333</td>\n",
       "    </tr>\n",
       "    <tr>\n",
       "      <th>2</th>\n",
       "      <td>1</td>\n",
       "      <td>0.016431</td>\n",
       "      <td>0.003489</td>\n",
       "      <td>0.009483</td>\n",
       "      <td>0.016431</td>\n",
       "      <td>0.003489</td>\n",
       "      <td>0.009483</td>\n",
       "      <td>5.675399e+00</td>\n",
       "      <td>1.631303e+00</td>\n",
       "      <td>3.417318e+00</td>\n",
       "      <td>...</td>\n",
       "      <td>4.524307e+07</td>\n",
       "      <td>0.0</td>\n",
       "      <td>0.000000e+00</td>\n",
       "      <td>0.000000e+00</td>\n",
       "      <td>8</td>\n",
       "      <td>1</td>\n",
       "      <td>3.333333</td>\n",
       "      <td>8</td>\n",
       "      <td>1</td>\n",
       "      <td>3.333333</td>\n",
       "    </tr>\n",
       "    <tr>\n",
       "      <th>3</th>\n",
       "      <td>1</td>\n",
       "      <td>7.231811</td>\n",
       "      <td>7.231811</td>\n",
       "      <td>7.231811</td>\n",
       "      <td>7.231811</td>\n",
       "      <td>7.231811</td>\n",
       "      <td>7.231811</td>\n",
       "      <td>2.030193e+03</td>\n",
       "      <td>2.030193e+03</td>\n",
       "      <td>2.030193e+03</td>\n",
       "      <td>...</td>\n",
       "      <td>9.729845e+06</td>\n",
       "      <td>0.0</td>\n",
       "      <td>0.000000e+00</td>\n",
       "      <td>0.000000e+00</td>\n",
       "      <td>349</td>\n",
       "      <td>349</td>\n",
       "      <td>349.000000</td>\n",
       "      <td>349</td>\n",
       "      <td>349</td>\n",
       "      <td>349.000000</td>\n",
       "    </tr>\n",
       "    <tr>\n",
       "      <th>4</th>\n",
       "      <td>0</td>\n",
       "      <td>406.493830</td>\n",
       "      <td>406.493830</td>\n",
       "      <td>406.493830</td>\n",
       "      <td>406.493830</td>\n",
       "      <td>406.493830</td>\n",
       "      <td>406.493830</td>\n",
       "      <td>4.050691e+06</td>\n",
       "      <td>4.050691e+06</td>\n",
       "      <td>4.050691e+06</td>\n",
       "      <td>...</td>\n",
       "      <td>1.752022e+07</td>\n",
       "      <td>0.0</td>\n",
       "      <td>0.000000e+00</td>\n",
       "      <td>0.000000e+00</td>\n",
       "      <td>79</td>\n",
       "      <td>79</td>\n",
       "      <td>79.000000</td>\n",
       "      <td>79</td>\n",
       "      <td>79</td>\n",
       "      <td>79.000000</td>\n",
       "    </tr>\n",
       "  </tbody>\n",
       "</table>\n",
       "<p>5 rows × 28 columns</p>\n",
       "</div>"
      ],
      "text/plain": [
       "   labels  btc_spent_max  btc_spent_min  btc_spent_avg  btc_received_max  \\\n",
       "0       1      52.042482       8.510636      36.295453         52.042482   \n",
       "1       1       0.010000       0.000078       0.003704          0.010000   \n",
       "2       1       0.016431       0.003489       0.009483          0.016431   \n",
       "3       1       7.231811       7.231811       7.231811          7.231811   \n",
       "4       0     406.493830     406.493830     406.493830        406.493830   \n",
       "\n",
       "   btc_received_min  btc_received_avg  usd_spent_max  usd_spent_min  \\\n",
       "0          8.510636         36.295453   2.663563e+04   5.796361e+03   \n",
       "1          0.000078          0.003704   1.154915e+01   1.093942e-02   \n",
       "2          0.003489          0.009483   5.675399e+00   1.631303e+00   \n",
       "3          7.231811          7.231811   2.030193e+03   2.030193e+03   \n",
       "4        406.493830        406.493830   4.050691e+06   4.050691e+06   \n",
       "\n",
       "   usd_spent_avg  ...       age_avg  fee_max       fee_min       fee_avg  \\\n",
       "0   1.903797e+04  ...  3.817507e+07      0.0 -7.105427e-15 -2.368476e-15   \n",
       "1   4.251041e+00  ...  2.396534e+06      0.0  0.000000e+00  0.000000e+00   \n",
       "2   3.417318e+00  ...  4.524307e+07      0.0  0.000000e+00  0.000000e+00   \n",
       "3   2.030193e+03  ...  9.729845e+06      0.0  0.000000e+00  0.000000e+00   \n",
       "4   4.050691e+06  ...  1.752022e+07      0.0  0.000000e+00  0.000000e+00   \n",
       "\n",
       "   number_spent_max  number_spent_min  number_spent_avg  number_received_max  \\\n",
       "0              1367                 6        756.000000                 1367   \n",
       "1                 2                 1          1.333333                    2   \n",
       "2                 8                 1          3.333333                    8   \n",
       "3               349               349        349.000000                  349   \n",
       "4                79                79         79.000000                   79   \n",
       "\n",
       "   number_received_min  number_received_avg  \n",
       "0                    6           756.000000  \n",
       "1                    1             1.333333  \n",
       "2                    1             3.333333  \n",
       "3                  349           349.000000  \n",
       "4                   79            79.000000  \n",
       "\n",
       "[5 rows x 28 columns]"
      ]
     },
     "execution_count": 103,
     "metadata": {},
     "output_type": "execute_result"
    }
   ],
   "source": [
    "concat_exchange = pd.concat([pd.DataFrame({'labels' : predict_ex}), only_exchange], axis=1)\n",
    "concat_exchange.head()"
   ]
  },
  {
   "cell_type": "code",
   "execution_count": 104,
   "metadata": {},
   "outputs": [],
   "source": [
    "concat_exchange.to_csv('./category_feature_pickle/change_to_four_exchange.csv')"
   ]
  },
  {
   "cell_type": "code",
   "execution_count": null,
   "metadata": {},
   "outputs": [],
   "source": []
  }
 ],
 "metadata": {
  "kernelspec": {
   "display_name": "Python 3",
   "language": "python",
   "name": "python3"
  },
  "language_info": {
   "codemirror_mode": {
    "name": "ipython",
    "version": 3
   },
   "file_extension": ".py",
   "mimetype": "text/x-python",
   "name": "python",
   "nbconvert_exporter": "python",
   "pygments_lexer": "ipython3",
   "version": "3.7.7"
  }
 },
 "nbformat": 4,
 "nbformat_minor": 4
}
