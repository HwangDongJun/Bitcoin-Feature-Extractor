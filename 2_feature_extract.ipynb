{
 "cells": [
  {
   "cell_type": "code",
   "execution_count": 1,
   "metadata": {},
   "outputs": [],
   "source": [
    "from secret import rpc_user, rpc_password"
   ]
  },
  {
   "cell_type": "code",
   "execution_count": 2,
   "metadata": {},
   "outputs": [
    {
     "name": "stdout",
     "output_type": "stream",
     "text": [
      "Bitcoind PID: 30675\n",
      "\n"
     ]
    }
   ],
   "source": [
    "## Check the bitcoind running\n",
    "import os\n",
    "\n",
    "datadir = os.path.abspath(os.path.expanduser('~/.bitcoin'))\n",
    "pid_path = os.path.join(datadir, 'bitcoind.pid')\n",
    "if os.path.exists(pid_path):\n",
    "    with open(pid_path, 'r') as f:\n",
    "        print(f'Bitcoind PID: {f.read()}')\n",
    "else:\n",
    "    raise SystemExit('Bitcoind is not running!')"
   ]
  },
  {
   "cell_type": "code",
   "execution_count": 3,
   "metadata": {},
   "outputs": [],
   "source": [
    "from address_convertor import pubkey_to_address, get_pubkey"
   ]
  },
  {
   "cell_type": "code",
   "execution_count": 4,
   "metadata": {},
   "outputs": [],
   "source": [
    "## Some function for convenient\n",
    "import datetime\n",
    "\n",
    "tz_seoul = datetime.timezone(datetime.timedelta(hours=9))\n",
    "tz_utc = datetime.timezone(datetime.timedelta())\n",
    "\n",
    "def get_time(timestamp):\n",
    "    return datetime.datetime.fromtimestamp(timestamp, tz=tz_seoul)"
   ]
  },
  {
   "cell_type": "code",
   "execution_count": 5,
   "metadata": {},
   "outputs": [
    {
     "name": "stdout",
     "output_type": "stream",
     "text": [
      "Best Block Heights: 641278, Time: 2020-07-29T13:50:56+09:00\n"
     ]
    }
   ],
   "source": [
    "import datetime\n",
    "from bitcoinrpc.authproxy import AuthServiceProxy, JSONRPCException\n",
    "rpc_ip = '127.0.0.1'\n",
    "rpc_port = '8332'\n",
    "timeout = 300\n",
    "\n",
    "def get_rpc():\n",
    "    return AuthServiceProxy(f'http://{rpc_user}:{rpc_password}@{rpc_ip}:{rpc_port}', timeout=timeout)\n",
    "\n",
    "rpc_connection = get_rpc()\n",
    "best_block_hash = rpc_connection.getbestblockhash()\n",
    "best_block = rpc_connection.getblock(best_block_hash)\n",
    "print(f'Best Block Heights: {best_block[\"height\"]}, Time: {get_time(best_block[\"time\"]).isoformat()}')"
   ]
  },
  {
   "cell_type": "code",
   "execution_count": null,
   "metadata": {},
   "outputs": [],
   "source": [
    "import pickle\n",
    "\n",
    "category_clusters = dict()\n",
    "with open('./경로', 'rb') as fr:\n",
    "    category_clusters = pickle.load(fr)"
   ]
  },
  {
   "cell_type": "markdown",
   "metadata": {},
   "source": [
    "## 특징 연산 코드"
   ]
  },
  {
   "cell_type": "code",
   "execution_count": null,
   "metadata": {},
   "outputs": [],
   "source": []
  },
  {
   "cell_type": "code",
   "execution_count": null,
   "metadata": {},
   "outputs": [],
   "source": [
    "def get_addr_btc_usd_spent(addr_id):\n",
    "    total_spent_value = 0.0; total_spent_usd = 0.0; convert_susd = 0.0\n",
    "    cur.execute('''SELECT tx, btc FROM TxOut WHERE addr = ?''', (addr_id,))\n",
    "    for tx, btc in cur:\n",
    "        # btc 계산\n",
    "        total_spent_value += btc\n",
    "        \n",
    "        # usd 계산\n",
    "        cur.execute('''SELECT unixtime FROM BlkTime JOIN BlkTx ON BlkTime.blk = BlkTx.blk\n",
    "                                WHERE BlkTx.tx = ?''', (tx,))\n",
    "        get_time = cur.fetchone()[0]\n",
    "        itime = datetime.datetime.fromtimestamp(get_time).strftime('%Y-%m-%d') # convert to datetime\n",
    "        try:\n",
    "            convert_susd = float(list(preprocess_csv[preprocess_csv['date'] == itime]['USD'])[0].replace(\",\",\"\")) # search usd\n",
    "        except IndexError:\n",
    "            convert_susd = float(list(preprocess_csv[preprocess_csv['date'] == '2010-07-18']['USD'])[0].replace(\",\",\"\")) # search usd\n",
    "        total_spent_usd += btc * convert_susd\n",
    "        \n",
    "    return total_spent_value, total_spent_usd\n",
    "\n",
    "def get_addr_btc_usd_received(addr_id):\n",
    "    total_received_value = 0.0 # btc\n",
    "    total_received_usd = 0.0; convert_susd = 0.0 # usd\n",
    "    sum_utxo_btc = 0.0 # balance\n",
    "    \n",
    "    cur.execute('''SELECT tx, btc FROM TxIn WHERE addr = ?''', (addr_id,))\n",
    "    for tx, btc in cur:\n",
    "        # btc 계산\n",
    "        total_received_value += btc\n",
    "        \n",
    "        # usd 계산\n",
    "        tmp_cur.execute('''SELECT unixtime FROM BlkTime JOIN BlkTx ON BlkTime.blk = BlkTx.blk\n",
    "                                WHERE BlkTx.tx = ?''', (tx,))\n",
    "        get_time = cur.fetchone()[0]\n",
    "        itime = datetime.datetime.fromtimestamp(get_time).strftime('%Y-%m-%d') # convert to datetime\n",
    "        try:\n",
    "            convert_susd = float(list(preprocess_csv[preprocess_csv['date'] == itime]['USD'])[0].replace(\",\",\"\")) # search usd\n",
    "        except IndexError:\n",
    "            convert_susd = float(list(preprocess_csv[preprocess_csv['date'] == '2010-07-18']['USD'])[0].replace(\",\",\"\")) # search usd\n",
    "\n",
    "        total_received_usd += btc * convert_susd\n",
    "        \n",
    "        # balance 계산\n",
    "        tmp_cur.execute('''SELECT addr, btc FROM TxOut WHERE tx = ?''', (tx,))\n",
    "        for addr, byc in tmp_cur:\n",
    "            try:\n",
    "                tmp_cur2.execute('''SELECT COUNT(addr) FROM TxIn WHERE addr = ?''', (addr,))\n",
    "                if tmp_cur2.fetchone()[0] == 0:\n",
    "                    sum_utxo_btc += btc\n",
    "            except KeyError:\n",
    "                continue\n",
    "    \n",
    "    return total_received_value, total_received_usd, sum_utxo_btc\n",
    "\n",
    "def get_age(addr_id):\n",
    "    txhash_list = list()\n",
    "    \n",
    "    # 처음 생성은 tx_out 가장 첫번째에서...\n",
    "    cur.execute('''SELECT BlkTime.unixtime FROM BlkTime JOIN BlkTx ON BlkTime.blk = BlkTx.blk\n",
    "                            JOIN TxOut ON BlkTx.tx = TxOut.tx WHERE TxOut.addr = ?''', (addr_id,))\n",
    "    txhash_list.append(cur.fetchone()[0])\n",
    "    \n",
    "    # 마지막 생성은 tx_in, tx_out 내림차순으로 정리해서 확인\n",
    "    cur.execute('''SELECT BlkTime.unixtime FROM BlkTime JOIN BlkTx ON BlkTime.blk = BlkTx.blk \n",
    "                    JOIN TxIn ON BlkTx.tx = TxIn.tx WHERE TxIn.addr = ? ORDER BY TxIn.tx desc''', (addr_id,))\n",
    "    txin_txhash = cur.fetchone()[0]\n",
    "    cur.execute('''SELECT BlkTime.unixtime FROM BlkTime JOIN BlkTx ON BlkTime.blk = BlkTx.blk \n",
    "                    JOIN TxOut ON BlkTx.tx = TxOut.tx WHERE TxOut.addr = ? ORDER BY TxOut.tx desc''', (addr_id,))\n",
    "    txhash_list.append([txin_txhash, cur.fetchone()[0]])\n",
    "    \n",
    "    first_check_time = 0; last_check_time = 0\n",
    "    for i, time in enumerate(txhash_list):\n",
    "        if i == 0: # 처음 생성된 시간을 구하는.\n",
    "            first_check_time = time\n",
    "        else: # 마지막으로 사용된 시간을 구하는.\n",
    "            for th_time in tl:                    \n",
    "                if last_check_time < th_time:\n",
    "                    last_check_time = th_time\n",
    "                    \n",
    "    return last_check_time - first_check_time\n",
    "\n",
    "def get_fee(addr_id):\n",
    "    activate_txin = set(); activate_txout = set(); fee_list = list()\n",
    "    cur.execute('''SELECT tx FROM TxOut WHERE addr = ?''', (addr_id,))\n",
    "    for row in cur:\n",
    "        activate_txout.add(row)\n",
    "    cur.execute('''SELECT tx FROM TxIn WHERE addr = ?''', (addr_id,))\n",
    "    for row in cur:\n",
    "        activate_txin.add(row)\n",
    "    \n",
    "    txout_value = 0; txin_value = 0\n",
    "    for atxo in activate_txout:\n",
    "        tmp_cur.execute('''SELECT btc FROM TxOut WHERE tx = ?''', (atxo[0],))\n",
    "        for row in tmp_cur:\n",
    "            txout_value += row[0]\n",
    "    for atxi in activate_txin:\n",
    "        tmp_cur.execute('''SELECT btc FROM TxIn WHERE tx = ?''', (atxi[0],))\n",
    "        for row in tmp_cur:\n",
    "            txin_value += row[0]\n",
    "            \n",
    "    return txin_value - txout_value\n",
    "\n",
    "def get_number_spent(addr_id):\n",
    "    cur.execute('''SELECT count(*) FROM TxOut WHERE addr = ?''', (addr_id,))\n",
    "    return cur.fetchone()[0]\n",
    "\n",
    "def get_number_received(addr_id):\n",
    "    cur.execute('''SELECT count(*) FROM TxIn WHERE addr = ?''', (addr_id,))\n",
    "    return cur.fetchone()[0]"
   ]
  }
 ],
 "metadata": {
  "kernelspec": {
   "display_name": "Python 3",
   "language": "python",
   "name": "python3"
  },
  "language_info": {
   "codemirror_mode": {
    "name": "ipython",
    "version": 3
   },
   "file_extension": ".py",
   "mimetype": "text/x-python",
   "name": "python",
   "nbconvert_exporter": "python",
   "pygments_lexer": "ipython3",
   "version": "3.7.7"
  }
 },
 "nbformat": 4,
 "nbformat_minor": 2
}
